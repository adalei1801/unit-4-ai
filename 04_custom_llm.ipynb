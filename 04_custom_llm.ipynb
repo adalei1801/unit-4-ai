{
 "cells": [
  {
   "cell_type": "code",
   "execution_count": 1,
   "metadata": {},
   "outputs": [],
   "source": [
    "import gpt_2_simple as gpt2"
   ]
  },
  {
   "cell_type": "code",
   "execution_count": 2,
   "metadata": {},
   "outputs": [],
   "source": [
    "session = gpt2.start_tf_sess()\n"
   ]
  },
  {
   "cell_type": "code",
   "execution_count": 3,
   "metadata": {},
   "outputs": [
    {
     "name": "stderr",
     "output_type": "stream",
     "text": [
      "WARNING: All log messages before absl::InitializeLog() is called are written to STDERR\n",
      "I0000 00:00:1732722751.741757 5091910 mlir_graph_optimization_pass.cc:401] MLIR V1 optimization pass is not enabled\n"
     ]
    },
    {
     "name": "stdout",
     "output_type": "stream",
     "text": [
      "Loading checkpoint models/124M/model.ckpt\n",
      "INFO:tensorflow:Restoring parameters from models/124M/model.ckpt\n",
      "Loading dataset...\n"
     ]
    },
    {
     "name": "stderr",
     "output_type": "stream",
     "text": [
      "100%|██████████| 1/1 [00:00<00:00, 1729.61it/s]"
     ]
    },
    {
     "name": "stdout",
     "output_type": "stream",
     "text": [
      "dataset has 952 tokens\n",
      "Training...\n"
     ]
    },
    {
     "name": "stderr",
     "output_type": "stream",
     "text": [
      "\n"
     ]
    },
    {
     "ename": "AssertionError",
     "evalue": "Dataset files are too small to sample 1024 tokens at a time",
     "output_type": "error",
     "traceback": [
      "\u001b[0;31m---------------------------------------------------------------------------\u001b[0m",
      "\u001b[0;31mAssertionError\u001b[0m                            Traceback (most recent call last)",
      "Cell \u001b[0;32mIn[3], line 1\u001b[0m\n\u001b[0;32m----> 1\u001b[0m gpt2\u001b[39m.\u001b[39;49mfinetune(\n\u001b[1;32m      2\u001b[0m     session, \n\u001b[1;32m      3\u001b[0m \t\u001b[39m\"\u001b[39;49m\u001b[39mquestions.txt\u001b[39;49m\u001b[39m\"\u001b[39;49m, \n\u001b[1;32m      4\u001b[0m \tmodel_name\u001b[39m=\u001b[39;49m\u001b[39m\"\u001b[39;49m\u001b[39m124M\u001b[39;49m\u001b[39m\"\u001b[39;49m, \n\u001b[1;32m      5\u001b[0m \tsteps\u001b[39m=\u001b[39;49m\u001b[39m20\u001b[39;49m, \n\u001b[1;32m      6\u001b[0m \trun_name\u001b[39m=\u001b[39;49m\u001b[39m\"\u001b[39;49m\u001b[39mcustom_ai\u001b[39;49m\u001b[39m\"\u001b[39;49m\n\u001b[1;32m      7\u001b[0m )\n",
      "File \u001b[0;32m~/Library/Python/3.10/lib/python/site-packages/gpt_2_simple/gpt_2.py:340\u001b[0m, in \u001b[0;36mfinetune\u001b[0;34m(sess, dataset, steps, model_name, model_dir, combine, batch_size, learning_rate, accumulate_gradients, restore_from, run_name, checkpoint_dir, sample_every, sample_length, sample_num, multi_gpu, save_every, print_every, max_checkpoints, use_memory_saving_gradients, only_train_transformer_layers, optimizer, overwrite, reuse)\u001b[0m\n\u001b[1;32m    337\u001b[0m     sess\u001b[39m.\u001b[39mrun(opt_reset)\n\u001b[1;32m    338\u001b[0m     \u001b[39mfor\u001b[39;00m _ \u001b[39min\u001b[39;00m \u001b[39mrange\u001b[39m(accumulate_gradients):\n\u001b[1;32m    339\u001b[0m         sess\u001b[39m.\u001b[39mrun(\n\u001b[0;32m--> 340\u001b[0m             opt_compute, feed_dict\u001b[39m=\u001b[39m{context: sample_batch()})\n\u001b[1;32m    341\u001b[0m     (v_loss, v_summary) \u001b[39m=\u001b[39m sess\u001b[39m.\u001b[39mrun((opt_apply, summary_loss))\n\u001b[1;32m    342\u001b[0m \u001b[39melse\u001b[39;00m:\n",
      "File \u001b[0;32m~/Library/Python/3.10/lib/python/site-packages/gpt_2_simple/gpt_2.py:312\u001b[0m, in \u001b[0;36mfinetune.<locals>.sample_batch\u001b[0;34m()\u001b[0m\n\u001b[1;32m    311\u001b[0m \u001b[39mdef\u001b[39;00m \u001b[39msample_batch\u001b[39m():\n\u001b[0;32m--> 312\u001b[0m     \u001b[39mreturn\u001b[39;00m [data_sampler\u001b[39m.\u001b[39msample(\u001b[39m1024\u001b[39m) \u001b[39mfor\u001b[39;00m _ \u001b[39min\u001b[39;00m \u001b[39mrange\u001b[39m(batch_size)]\n",
      "File \u001b[0;32m~/Library/Python/3.10/lib/python/site-packages/gpt_2_simple/gpt_2.py:312\u001b[0m, in \u001b[0;36m<listcomp>\u001b[0;34m(.0)\u001b[0m\n\u001b[1;32m    311\u001b[0m \u001b[39mdef\u001b[39;00m \u001b[39msample_batch\u001b[39m():\n\u001b[0;32m--> 312\u001b[0m     \u001b[39mreturn\u001b[39;00m [data_sampler\u001b[39m.\u001b[39;49msample(\u001b[39m1024\u001b[39;49m) \u001b[39mfor\u001b[39;00m _ \u001b[39min\u001b[39;00m \u001b[39mrange\u001b[39m(batch_size)]\n",
      "File \u001b[0;32m~/Library/Python/3.10/lib/python/site-packages/gpt_2_simple/src/load_dataset.py:82\u001b[0m, in \u001b[0;36mSampler.sample\u001b[0;34m(self, length)\u001b[0m\n\u001b[1;32m     81\u001b[0m \u001b[39mdef\u001b[39;00m \u001b[39msample\u001b[39m(\u001b[39mself\u001b[39m, length):\n\u001b[0;32m---> 82\u001b[0m     \u001b[39massert\u001b[39;00m length \u001b[39m<\u001b[39m \u001b[39mself\u001b[39m\u001b[39m.\u001b[39mtotal_size \u001b[39m/\u001b[39m\u001b[39m/\u001b[39m \u001b[39mlen\u001b[39m(\n\u001b[1;32m     83\u001b[0m         \u001b[39mself\u001b[39m\u001b[39m.\u001b[39mchunks\n\u001b[1;32m     84\u001b[0m     ), \u001b[39m\"\u001b[39m\u001b[39mDataset files are too small to sample \u001b[39m\u001b[39m{}\u001b[39;00m\u001b[39m tokens at a time\u001b[39m\u001b[39m\"\u001b[39m\u001b[39m.\u001b[39mformat(\n\u001b[1;32m     85\u001b[0m         length)\n\u001b[1;32m     86\u001b[0m     \u001b[39mwhile\u001b[39;00m \u001b[39mTrue\u001b[39;00m:\n\u001b[1;32m     87\u001b[0m         index \u001b[39m=\u001b[39m random\u001b[39m.\u001b[39mrandint(\u001b[39m0\u001b[39m, \u001b[39mself\u001b[39m\u001b[39m.\u001b[39mtotal_size \u001b[39m-\u001b[39m length \u001b[39m-\u001b[39m \u001b[39m1\u001b[39m)\n",
      "\u001b[0;31mAssertionError\u001b[0m: Dataset files are too small to sample 1024 tokens at a time"
     ]
    }
   ],
   "source": [
    "gpt2.finetune(\n",
    "    session, \n",
    "\t\"questions.txt\", \n",
    "\tmodel_name=\"124M\", \n",
    "\tsteps=20, \n",
    "\trun_name=\"custom_ai\"\n",
    ")"
   ]
  }
 ],
 "metadata": {
  "kernelspec": {
   "display_name": "Python 3",
   "language": "python",
   "name": "python3"
  },
  "language_info": {
   "codemirror_mode": {
    "name": "ipython",
    "version": 3
   },
   "file_extension": ".py",
   "mimetype": "text/x-python",
   "name": "python",
   "nbconvert_exporter": "python",
   "pygments_lexer": "ipython3",
   "version": "3.10.8"
  },
  "orig_nbformat": 4,
  "vscode": {
   "interpreter": {
    "hash": "b0fa6594d8f4cbf19f97940f81e996739fb7646882a419484c72d19e05852a7e"
   }
  }
 },
 "nbformat": 4,
 "nbformat_minor": 2
}
